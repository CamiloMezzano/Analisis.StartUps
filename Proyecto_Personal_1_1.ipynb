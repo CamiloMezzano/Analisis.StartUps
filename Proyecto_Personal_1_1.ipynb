{
  "nbformat": 4,
  "nbformat_minor": 0,
  "metadata": {
    "colab": {
      "provenance": [],
      "collapsed_sections": [
        "Eomy_JcUN3Xv",
        "XHV7-hCsQJFv"
      ],
      "authorship_tag": "ABX9TyPRMrxUo9e7oy2myEUEFm1e",
      "include_colab_link": true
    },
    "kernelspec": {
      "name": "python3",
      "display_name": "Python 3"
    },
    "language_info": {
      "name": "python"
    }
  },
  "cells": [
    {
      "cell_type": "markdown",
      "metadata": {
        "id": "view-in-github",
        "colab_type": "text"
      },
      "source": [
        "<a href=\"https://colab.research.google.com/github/CamiloMezzano/Analisis.StartUps/blob/main/Proyecto_Personal_1_1.ipynb\" target=\"_parent\"><img src=\"https://colab.research.google.com/assets/colab-badge.svg\" alt=\"Open In Colab\"/></a>"
      ]
    },
    {
      "cell_type": "markdown",
      "source": [
        "**Conjunto de datos**\n",
        "\n",
        "* Financiamiento de empresas tecnológicas (desde 2020)\n",
        "\n",
        "\n",
        "Este conjunto de datos contiene información actualizada sobre la financiación de empresas de tecnología en todo el mundo. Este conjunto de datos se puede utilizar para identificar tendencias recientes en empresas de tecnología y el espacio de inversión. El conjunto de datos contiene información de enero de 2020 y contiene información de financiación de más de 3500 empresas. Los atributos de los datos incluyen: nombre de la empresa, sitio web, etapa de financiamiento, fecha de financiamiento, cantidad de financiamiento en dólares estadounidenses y la región. Para obtener más información sobre los valores de los campos individuales, consulte los metadatos de columna.\n",
        "\n",
        "**Ideas de exploración**\n",
        "\n",
        "\n",
        "* ¿Cómo evoluciona el ecosistema de financiación a lo largo del tiempo?\n",
        "* ¿Las regiones de la empresa juegan un papel importante en la financiación?\n",
        "* ¿Qué categorías son las preferidas por los inversores para la financiación?\n",
        "* ¿Qué categorías son las preferidas por los inversores para la financiación?\n",
        "* ¿Cuántos fondos en diferentes categorías obtienen las empresas de tecnología en general?\n",
        "\n",
        "https://www.kaggle.com/datasets/shivamb/tech-company-fundings-2020-onwards\n"
      ],
      "metadata": {
        "id": "obrnss79_v_y"
      }
    },
    {
      "cell_type": "code",
      "source": [
        "# Para crear un DataSet alternativo\n",
        "\n",
        "# X = pd.read_csv('/content/tech_fundings_2.0.csv')\n",
        "# df = X[['Colum 1', 'Column 2']]\n",
        "# df.head()"
      ],
      "metadata": {
        "id": "z1KMMeKcxXZk"
      },
      "execution_count": null,
      "outputs": []
    },
    {
      "cell_type": "code",
      "execution_count": null,
      "metadata": {
        "id": "fMAw02TuCm9C"
      },
      "outputs": [],
      "source": [
        "import pandas as pd\n",
        "from sklearn.model_selection import train_test_split\n",
        "from sklearn.compose import make_column_selector, make_column_transformer\n",
        "from sklearn.impute import SimpleImputer\n",
        "from sklearn import set_config\n",
        "from sklearn.preprocessing import OneHotEncoder\n",
        "from sklearn.preprocessing import StandardScaler\n",
        "import numpy as np\n",
        "from sklearn.pipeline import make_pipeline\n",
        "from sklearn.linear_model import LinearRegression\n",
        "from sklearn.metrics import r2_score\n",
        "from sklearn.metrics import mean_absolute_error\n",
        "from sklearn.metrics import mean_squared_error\n",
        "import matplotlib.pyplot as plt\n",
        "from sklearn.tree import DecisionTreeRegressor\n",
        "from sklearn.ensemble import BaggingRegressor\n",
        "from sklearn.ensemble import RandomForestRegressor\n",
        "from sklearn.neighbors import KNeighborsClassifier\n",
        "from sklearn.datasets import load_iris\n",
        "from sklearn.ensemble import RandomForestClassifier, BaggingClassifier\n",
        "from sklearn.metrics import classification_report\n",
        "from sklearn.metrics import confusion_matrix, ConfusionMatrixDisplay\n",
        "from sklearn.linear_model import LogisticRegression\n",
        "from sklearn.metrics import roc_auc_score, RocCurveDisplay\n",
        "import seaborn as sns\n",
        "import datetime\n",
        "from sklearn.tree import DecisionTreeClassifier\n",
        "set_config(display='diagram')"
      ]
    },
    {
      "cell_type": "code",
      "source": [
        "df = pd.read_csv('/content/tech_fundings.csv')\n",
        "df.head()"
      ],
      "metadata": {
        "colab": {
          "base_uri": "https://localhost:8080/",
          "height": 206
        },
        "id": "0o1HrMkzGazi",
        "outputId": "1b3c9866-d371-4086-c4b8-f5432fd4290b"
      },
      "execution_count": null,
      "outputs": [
        {
          "output_type": "execute_result",
          "data": {
            "text/plain": [
              "     Company                   Website             Region         Country  \\\n",
              "0   Internxt     https://internxt.com/             Europa           Spain   \n",
              "1   Dockflow      https://dockflow.com             Europa         Belgium   \n",
              "2    Buck.ai          https://buck.ai/  America del Norte   United States   \n",
              "3  Prodsight  https://www.prodsight.ai             Europa  United Kingdom   \n",
              "4   Harvestr       http://harvestr.io/             Europa          France   \n",
              "\n",
              "                  Vertical Funding Amount (USD) Funding Stage Funding Date  \n",
              "0               Blockchain               278940          Seed       Jan-20  \n",
              "1                Logistics               292244          Seed       Jan-20  \n",
              "2  Artificial Intelligence               300000          Seed       Jan-20  \n",
              "3  Artificial Intelligence               529013          Seed       Jan-20  \n",
              "4             B2B Software               650000         Angel       Jan-20  "
            ],
            "text/html": [
              "\n",
              "  <div id=\"df-fa0a0eb5-e9f6-452e-b4d6-2c0aac53d13d\">\n",
              "    <div class=\"colab-df-container\">\n",
              "      <div>\n",
              "<style scoped>\n",
              "    .dataframe tbody tr th:only-of-type {\n",
              "        vertical-align: middle;\n",
              "    }\n",
              "\n",
              "    .dataframe tbody tr th {\n",
              "        vertical-align: top;\n",
              "    }\n",
              "\n",
              "    .dataframe thead th {\n",
              "        text-align: right;\n",
              "    }\n",
              "</style>\n",
              "<table border=\"1\" class=\"dataframe\">\n",
              "  <thead>\n",
              "    <tr style=\"text-align: right;\">\n",
              "      <th></th>\n",
              "      <th>Company</th>\n",
              "      <th>Website</th>\n",
              "      <th>Region</th>\n",
              "      <th>Country</th>\n",
              "      <th>Vertical</th>\n",
              "      <th>Funding Amount (USD)</th>\n",
              "      <th>Funding Stage</th>\n",
              "      <th>Funding Date</th>\n",
              "    </tr>\n",
              "  </thead>\n",
              "  <tbody>\n",
              "    <tr>\n",
              "      <th>0</th>\n",
              "      <td>Internxt</td>\n",
              "      <td>https://internxt.com/</td>\n",
              "      <td>Europa</td>\n",
              "      <td>Spain</td>\n",
              "      <td>Blockchain</td>\n",
              "      <td>278940</td>\n",
              "      <td>Seed</td>\n",
              "      <td>Jan-20</td>\n",
              "    </tr>\n",
              "    <tr>\n",
              "      <th>1</th>\n",
              "      <td>Dockflow</td>\n",
              "      <td>https://dockflow.com</td>\n",
              "      <td>Europa</td>\n",
              "      <td>Belgium</td>\n",
              "      <td>Logistics</td>\n",
              "      <td>292244</td>\n",
              "      <td>Seed</td>\n",
              "      <td>Jan-20</td>\n",
              "    </tr>\n",
              "    <tr>\n",
              "      <th>2</th>\n",
              "      <td>Buck.ai</td>\n",
              "      <td>https://buck.ai/</td>\n",
              "      <td>America del Norte</td>\n",
              "      <td>United States</td>\n",
              "      <td>Artificial Intelligence</td>\n",
              "      <td>300000</td>\n",
              "      <td>Seed</td>\n",
              "      <td>Jan-20</td>\n",
              "    </tr>\n",
              "    <tr>\n",
              "      <th>3</th>\n",
              "      <td>Prodsight</td>\n",
              "      <td>https://www.prodsight.ai</td>\n",
              "      <td>Europa</td>\n",
              "      <td>United Kingdom</td>\n",
              "      <td>Artificial Intelligence</td>\n",
              "      <td>529013</td>\n",
              "      <td>Seed</td>\n",
              "      <td>Jan-20</td>\n",
              "    </tr>\n",
              "    <tr>\n",
              "      <th>4</th>\n",
              "      <td>Harvestr</td>\n",
              "      <td>http://harvestr.io/</td>\n",
              "      <td>Europa</td>\n",
              "      <td>France</td>\n",
              "      <td>B2B Software</td>\n",
              "      <td>650000</td>\n",
              "      <td>Angel</td>\n",
              "      <td>Jan-20</td>\n",
              "    </tr>\n",
              "  </tbody>\n",
              "</table>\n",
              "</div>\n",
              "      <button class=\"colab-df-convert\" onclick=\"convertToInteractive('df-fa0a0eb5-e9f6-452e-b4d6-2c0aac53d13d')\"\n",
              "              title=\"Convert this dataframe to an interactive table.\"\n",
              "              style=\"display:none;\">\n",
              "        \n",
              "  <svg xmlns=\"http://www.w3.org/2000/svg\" height=\"24px\"viewBox=\"0 0 24 24\"\n",
              "       width=\"24px\">\n",
              "    <path d=\"M0 0h24v24H0V0z\" fill=\"none\"/>\n",
              "    <path d=\"M18.56 5.44l.94 2.06.94-2.06 2.06-.94-2.06-.94-.94-2.06-.94 2.06-2.06.94zm-11 1L8.5 8.5l.94-2.06 2.06-.94-2.06-.94L8.5 2.5l-.94 2.06-2.06.94zm10 10l.94 2.06.94-2.06 2.06-.94-2.06-.94-.94-2.06-.94 2.06-2.06.94z\"/><path d=\"M17.41 7.96l-1.37-1.37c-.4-.4-.92-.59-1.43-.59-.52 0-1.04.2-1.43.59L10.3 9.45l-7.72 7.72c-.78.78-.78 2.05 0 2.83L4 21.41c.39.39.9.59 1.41.59.51 0 1.02-.2 1.41-.59l7.78-7.78 2.81-2.81c.8-.78.8-2.07 0-2.86zM5.41 20L4 18.59l7.72-7.72 1.47 1.35L5.41 20z\"/>\n",
              "  </svg>\n",
              "      </button>\n",
              "      \n",
              "  <style>\n",
              "    .colab-df-container {\n",
              "      display:flex;\n",
              "      flex-wrap:wrap;\n",
              "      gap: 12px;\n",
              "    }\n",
              "\n",
              "    .colab-df-convert {\n",
              "      background-color: #E8F0FE;\n",
              "      border: none;\n",
              "      border-radius: 50%;\n",
              "      cursor: pointer;\n",
              "      display: none;\n",
              "      fill: #1967D2;\n",
              "      height: 32px;\n",
              "      padding: 0 0 0 0;\n",
              "      width: 32px;\n",
              "    }\n",
              "\n",
              "    .colab-df-convert:hover {\n",
              "      background-color: #E2EBFA;\n",
              "      box-shadow: 0px 1px 2px rgba(60, 64, 67, 0.3), 0px 1px 3px 1px rgba(60, 64, 67, 0.15);\n",
              "      fill: #174EA6;\n",
              "    }\n",
              "\n",
              "    [theme=dark] .colab-df-convert {\n",
              "      background-color: #3B4455;\n",
              "      fill: #D2E3FC;\n",
              "    }\n",
              "\n",
              "    [theme=dark] .colab-df-convert:hover {\n",
              "      background-color: #434B5C;\n",
              "      box-shadow: 0px 1px 3px 1px rgba(0, 0, 0, 0.15);\n",
              "      filter: drop-shadow(0px 1px 2px rgba(0, 0, 0, 0.3));\n",
              "      fill: #FFFFFF;\n",
              "    }\n",
              "  </style>\n",
              "\n",
              "      <script>\n",
              "        const buttonEl =\n",
              "          document.querySelector('#df-fa0a0eb5-e9f6-452e-b4d6-2c0aac53d13d button.colab-df-convert');\n",
              "        buttonEl.style.display =\n",
              "          google.colab.kernel.accessAllowed ? 'block' : 'none';\n",
              "\n",
              "        async function convertToInteractive(key) {\n",
              "          const element = document.querySelector('#df-fa0a0eb5-e9f6-452e-b4d6-2c0aac53d13d');\n",
              "          const dataTable =\n",
              "            await google.colab.kernel.invokeFunction('convertToInteractive',\n",
              "                                                     [key], {});\n",
              "          if (!dataTable) return;\n",
              "\n",
              "          const docLinkHtml = 'Like what you see? Visit the ' +\n",
              "            '<a target=\"_blank\" href=https://colab.research.google.com/notebooks/data_table.ipynb>data table notebook</a>'\n",
              "            + ' to learn more about interactive tables.';\n",
              "          element.innerHTML = '';\n",
              "          dataTable['output_type'] = 'display_data';\n",
              "          await google.colab.output.renderOutput(dataTable, element);\n",
              "          const docLink = document.createElement('div');\n",
              "          docLink.innerHTML = docLinkHtml;\n",
              "          element.appendChild(docLink);\n",
              "        }\n",
              "      </script>\n",
              "    </div>\n",
              "  </div>\n",
              "  "
            ]
          },
          "metadata": {},
          "execution_count": 127
        }
      ]
    },
    {
      "cell_type": "code",
      "source": [
        "#revisamos cantidad de columnas y filas\n",
        "df.shape"
      ],
      "metadata": {
        "colab": {
          "base_uri": "https://localhost:8080/"
        },
        "id": "oRXG4Tbt-ELd",
        "outputId": "6ce72358-4245-4863-e5ab-a4f57e66340d"
      },
      "execution_count": null,
      "outputs": [
        {
          "output_type": "execute_result",
          "data": {
            "text/plain": [
              "(3461, 8)"
            ]
          },
          "metadata": {},
          "execution_count": 128
        }
      ]
    },
    {
      "cell_type": "code",
      "source": [
        "Tech_Companies = pd.read_csv('/content/tech_fundings.csv')\n",
        "df = Tech_Companies[['Region', 'Vertical', 'Funding Amount (USD)', 'Funding Stage']]\n",
        "df.head()"
      ],
      "metadata": {
        "colab": {
          "base_uri": "https://localhost:8080/",
          "height": 206
        },
        "id": "vYPO1lpP2PFv",
        "outputId": "4ebde7df-544e-4ab0-ee66-2088fd7fd8a9"
      },
      "execution_count": null,
      "outputs": [
        {
          "output_type": "execute_result",
          "data": {
            "text/plain": [
              "              Region                 Vertical Funding Amount (USD)  \\\n",
              "0             Europa               Blockchain               278940   \n",
              "1             Europa                Logistics               292244   \n",
              "2  America del Norte  Artificial Intelligence               300000   \n",
              "3             Europa  Artificial Intelligence               529013   \n",
              "4             Europa             B2B Software               650000   \n",
              "\n",
              "  Funding Stage  \n",
              "0          Seed  \n",
              "1          Seed  \n",
              "2          Seed  \n",
              "3          Seed  \n",
              "4         Angel  "
            ],
            "text/html": [
              "\n",
              "  <div id=\"df-365548a9-2086-4279-9f4e-48e7b698a178\">\n",
              "    <div class=\"colab-df-container\">\n",
              "      <div>\n",
              "<style scoped>\n",
              "    .dataframe tbody tr th:only-of-type {\n",
              "        vertical-align: middle;\n",
              "    }\n",
              "\n",
              "    .dataframe tbody tr th {\n",
              "        vertical-align: top;\n",
              "    }\n",
              "\n",
              "    .dataframe thead th {\n",
              "        text-align: right;\n",
              "    }\n",
              "</style>\n",
              "<table border=\"1\" class=\"dataframe\">\n",
              "  <thead>\n",
              "    <tr style=\"text-align: right;\">\n",
              "      <th></th>\n",
              "      <th>Region</th>\n",
              "      <th>Vertical</th>\n",
              "      <th>Funding Amount (USD)</th>\n",
              "      <th>Funding Stage</th>\n",
              "    </tr>\n",
              "  </thead>\n",
              "  <tbody>\n",
              "    <tr>\n",
              "      <th>0</th>\n",
              "      <td>Europa</td>\n",
              "      <td>Blockchain</td>\n",
              "      <td>278940</td>\n",
              "      <td>Seed</td>\n",
              "    </tr>\n",
              "    <tr>\n",
              "      <th>1</th>\n",
              "      <td>Europa</td>\n",
              "      <td>Logistics</td>\n",
              "      <td>292244</td>\n",
              "      <td>Seed</td>\n",
              "    </tr>\n",
              "    <tr>\n",
              "      <th>2</th>\n",
              "      <td>America del Norte</td>\n",
              "      <td>Artificial Intelligence</td>\n",
              "      <td>300000</td>\n",
              "      <td>Seed</td>\n",
              "    </tr>\n",
              "    <tr>\n",
              "      <th>3</th>\n",
              "      <td>Europa</td>\n",
              "      <td>Artificial Intelligence</td>\n",
              "      <td>529013</td>\n",
              "      <td>Seed</td>\n",
              "    </tr>\n",
              "    <tr>\n",
              "      <th>4</th>\n",
              "      <td>Europa</td>\n",
              "      <td>B2B Software</td>\n",
              "      <td>650000</td>\n",
              "      <td>Angel</td>\n",
              "    </tr>\n",
              "  </tbody>\n",
              "</table>\n",
              "</div>\n",
              "      <button class=\"colab-df-convert\" onclick=\"convertToInteractive('df-365548a9-2086-4279-9f4e-48e7b698a178')\"\n",
              "              title=\"Convert this dataframe to an interactive table.\"\n",
              "              style=\"display:none;\">\n",
              "        \n",
              "  <svg xmlns=\"http://www.w3.org/2000/svg\" height=\"24px\"viewBox=\"0 0 24 24\"\n",
              "       width=\"24px\">\n",
              "    <path d=\"M0 0h24v24H0V0z\" fill=\"none\"/>\n",
              "    <path d=\"M18.56 5.44l.94 2.06.94-2.06 2.06-.94-2.06-.94-.94-2.06-.94 2.06-2.06.94zm-11 1L8.5 8.5l.94-2.06 2.06-.94-2.06-.94L8.5 2.5l-.94 2.06-2.06.94zm10 10l.94 2.06.94-2.06 2.06-.94-2.06-.94-.94-2.06-.94 2.06-2.06.94z\"/><path d=\"M17.41 7.96l-1.37-1.37c-.4-.4-.92-.59-1.43-.59-.52 0-1.04.2-1.43.59L10.3 9.45l-7.72 7.72c-.78.78-.78 2.05 0 2.83L4 21.41c.39.39.9.59 1.41.59.51 0 1.02-.2 1.41-.59l7.78-7.78 2.81-2.81c.8-.78.8-2.07 0-2.86zM5.41 20L4 18.59l7.72-7.72 1.47 1.35L5.41 20z\"/>\n",
              "  </svg>\n",
              "      </button>\n",
              "      \n",
              "  <style>\n",
              "    .colab-df-container {\n",
              "      display:flex;\n",
              "      flex-wrap:wrap;\n",
              "      gap: 12px;\n",
              "    }\n",
              "\n",
              "    .colab-df-convert {\n",
              "      background-color: #E8F0FE;\n",
              "      border: none;\n",
              "      border-radius: 50%;\n",
              "      cursor: pointer;\n",
              "      display: none;\n",
              "      fill: #1967D2;\n",
              "      height: 32px;\n",
              "      padding: 0 0 0 0;\n",
              "      width: 32px;\n",
              "    }\n",
              "\n",
              "    .colab-df-convert:hover {\n",
              "      background-color: #E2EBFA;\n",
              "      box-shadow: 0px 1px 2px rgba(60, 64, 67, 0.3), 0px 1px 3px 1px rgba(60, 64, 67, 0.15);\n",
              "      fill: #174EA6;\n",
              "    }\n",
              "\n",
              "    [theme=dark] .colab-df-convert {\n",
              "      background-color: #3B4455;\n",
              "      fill: #D2E3FC;\n",
              "    }\n",
              "\n",
              "    [theme=dark] .colab-df-convert:hover {\n",
              "      background-color: #434B5C;\n",
              "      box-shadow: 0px 1px 3px 1px rgba(0, 0, 0, 0.15);\n",
              "      filter: drop-shadow(0px 1px 2px rgba(0, 0, 0, 0.3));\n",
              "      fill: #FFFFFF;\n",
              "    }\n",
              "  </style>\n",
              "\n",
              "      <script>\n",
              "        const buttonEl =\n",
              "          document.querySelector('#df-365548a9-2086-4279-9f4e-48e7b698a178 button.colab-df-convert');\n",
              "        buttonEl.style.display =\n",
              "          google.colab.kernel.accessAllowed ? 'block' : 'none';\n",
              "\n",
              "        async function convertToInteractive(key) {\n",
              "          const element = document.querySelector('#df-365548a9-2086-4279-9f4e-48e7b698a178');\n",
              "          const dataTable =\n",
              "            await google.colab.kernel.invokeFunction('convertToInteractive',\n",
              "                                                     [key], {});\n",
              "          if (!dataTable) return;\n",
              "\n",
              "          const docLinkHtml = 'Like what you see? Visit the ' +\n",
              "            '<a target=\"_blank\" href=https://colab.research.google.com/notebooks/data_table.ipynb>data table notebook</a>'\n",
              "            + ' to learn more about interactive tables.';\n",
              "          element.innerHTML = '';\n",
              "          dataTable['output_type'] = 'display_data';\n",
              "          await google.colab.output.renderOutput(dataTable, element);\n",
              "          const docLink = document.createElement('div');\n",
              "          docLink.innerHTML = docLinkHtml;\n",
              "          element.appendChild(docLink);\n",
              "        }\n",
              "      </script>\n",
              "    </div>\n",
              "  </div>\n",
              "  "
            ]
          },
          "metadata": {},
          "execution_count": 129
        }
      ]
    },
    {
      "cell_type": "code",
      "source": [
        "#Revisamos la información de nuestra base\n",
        "df.info()"
      ],
      "metadata": {
        "colab": {
          "base_uri": "https://localhost:8080/"
        },
        "id": "VJUXm_3C-DtS",
        "outputId": "59491a7d-0a39-4361-f514-37a192f99061"
      },
      "execution_count": null,
      "outputs": [
        {
          "output_type": "stream",
          "name": "stdout",
          "text": [
            "<class 'pandas.core.frame.DataFrame'>\n",
            "RangeIndex: 3461 entries, 0 to 3460\n",
            "Data columns (total 4 columns):\n",
            " #   Column                Non-Null Count  Dtype \n",
            "---  ------                --------------  ----- \n",
            " 0   Region                3461 non-null   object\n",
            " 1   Vertical              3461 non-null   object\n",
            " 2   Funding Amount (USD)  3461 non-null   object\n",
            " 3   Funding Stage         3461 non-null   object\n",
            "dtypes: object(4)\n",
            "memory usage: 108.3+ KB\n"
          ]
        }
      ]
    },
    {
      "cell_type": "code",
      "source": [
        "#Revisamos los faltantes\n",
        "df.isna().sum()"
      ],
      "metadata": {
        "colab": {
          "base_uri": "https://localhost:8080/"
        },
        "id": "cXoh-J3N-GCv",
        "outputId": "9a8a65cb-e059-4748-b672-7ea959c04268"
      },
      "execution_count": null,
      "outputs": [
        {
          "output_type": "execute_result",
          "data": {
            "text/plain": [
              "Region                  0\n",
              "Vertical                0\n",
              "Funding Amount (USD)    0\n",
              "Funding Stage           0\n",
              "dtype: int64"
            ]
          },
          "metadata": {},
          "execution_count": 131
        }
      ]
    },
    {
      "cell_type": "code",
      "source": [
        "df.value_counts('Vertical')"
      ],
      "metadata": {
        "colab": {
          "base_uri": "https://localhost:8080/"
        },
        "id": "4kPHGUKS-K7x",
        "outputId": "a1bfaadb-ac08-421c-c4b1-ad200a1bed37"
      },
      "execution_count": null,
      "outputs": [
        {
          "output_type": "execute_result",
          "data": {
            "text/plain": [
              "Vertical\n",
              "B2B Software               616\n",
              "FinTech                    355\n",
              "Cloud Computing            280\n",
              "Artificial Intelligence    279\n",
              "Blockchain                 231\n",
              "                          ... \n",
              "CoWorking                    1\n",
              "Events                       1\n",
              "Enterprise Software          1\n",
              "Design Software              1\n",
              "Big Data                     1\n",
              "Length: 85, dtype: int64"
            ]
          },
          "metadata": {},
          "execution_count": 132
        }
      ]
    },
    {
      "cell_type": "code",
      "source": [
        "df.value_counts('Region')"
      ],
      "metadata": {
        "colab": {
          "base_uri": "https://localhost:8080/"
        },
        "id": "lhHC0ENZIfcN",
        "outputId": "3605d961-e5a7-4e55-a5fb-d9ffc2b6aeb3"
      },
      "execution_count": null,
      "outputs": [
        {
          "output_type": "execute_result",
          "data": {
            "text/plain": [
              "Region\n",
              "America del Norte    2095\n",
              "Europa                803\n",
              "Asia                  407\n",
              "LATAM                  60\n",
              "Oceania                57\n",
              "Africa                 39\n",
              "dtype: int64"
            ]
          },
          "metadata": {},
          "execution_count": 133
        }
      ]
    },
    {
      "cell_type": "code",
      "source": [
        "df.value_counts('Funding Stage')"
      ],
      "metadata": {
        "colab": {
          "base_uri": "https://localhost:8080/"
        },
        "id": "Nu82hHv1JBW1",
        "outputId": "e574f8f1-8eda-4b14-896e-50cfc5b36886"
      },
      "execution_count": null,
      "outputs": [
        {
          "output_type": "execute_result",
          "data": {
            "text/plain": [
              "Funding Stage\n",
              "Series A          939\n",
              "Seed              832\n",
              "Series B          647\n",
              "Series C          460\n",
              "Series D          249\n",
              "Series E          134\n",
              "Series F           62\n",
              "Pre-Seed           56\n",
              "Series G           26\n",
              "Private Equity     21\n",
              "Angel              13\n",
              "Debt Financing     10\n",
              "ICO                 5\n",
              "Series H            4\n",
              "Crowdfunding        3\n",
              "dtype: int64"
            ]
          },
          "metadata": {},
          "execution_count": 134
        }
      ]
    },
    {
      "cell_type": "code",
      "source": [
        "df.describe().round()"
      ],
      "metadata": {
        "colab": {
          "base_uri": "https://localhost:8080/",
          "height": 175
        },
        "id": "9niW1mll-QVX",
        "outputId": "758c2ef6-949f-47a2-9412-107e91ff25a6"
      },
      "execution_count": null,
      "outputs": [
        {
          "output_type": "execute_result",
          "data": {
            "text/plain": [
              "                   Region      Vertical Funding Amount (USD) Funding Stage\n",
              "count                3461          3461                 3461          3461\n",
              "unique                  6            85                  945            15\n",
              "top     America del Norte  B2B Software             10000000      Series A\n",
              "freq                 2095           616                  100           939"
            ],
            "text/html": [
              "\n",
              "  <div id=\"df-b554004e-ad31-48e1-96f1-0bfade0b7b30\">\n",
              "    <div class=\"colab-df-container\">\n",
              "      <div>\n",
              "<style scoped>\n",
              "    .dataframe tbody tr th:only-of-type {\n",
              "        vertical-align: middle;\n",
              "    }\n",
              "\n",
              "    .dataframe tbody tr th {\n",
              "        vertical-align: top;\n",
              "    }\n",
              "\n",
              "    .dataframe thead th {\n",
              "        text-align: right;\n",
              "    }\n",
              "</style>\n",
              "<table border=\"1\" class=\"dataframe\">\n",
              "  <thead>\n",
              "    <tr style=\"text-align: right;\">\n",
              "      <th></th>\n",
              "      <th>Region</th>\n",
              "      <th>Vertical</th>\n",
              "      <th>Funding Amount (USD)</th>\n",
              "      <th>Funding Stage</th>\n",
              "    </tr>\n",
              "  </thead>\n",
              "  <tbody>\n",
              "    <tr>\n",
              "      <th>count</th>\n",
              "      <td>3461</td>\n",
              "      <td>3461</td>\n",
              "      <td>3461</td>\n",
              "      <td>3461</td>\n",
              "    </tr>\n",
              "    <tr>\n",
              "      <th>unique</th>\n",
              "      <td>6</td>\n",
              "      <td>85</td>\n",
              "      <td>945</td>\n",
              "      <td>15</td>\n",
              "    </tr>\n",
              "    <tr>\n",
              "      <th>top</th>\n",
              "      <td>America del Norte</td>\n",
              "      <td>B2B Software</td>\n",
              "      <td>10000000</td>\n",
              "      <td>Series A</td>\n",
              "    </tr>\n",
              "    <tr>\n",
              "      <th>freq</th>\n",
              "      <td>2095</td>\n",
              "      <td>616</td>\n",
              "      <td>100</td>\n",
              "      <td>939</td>\n",
              "    </tr>\n",
              "  </tbody>\n",
              "</table>\n",
              "</div>\n",
              "      <button class=\"colab-df-convert\" onclick=\"convertToInteractive('df-b554004e-ad31-48e1-96f1-0bfade0b7b30')\"\n",
              "              title=\"Convert this dataframe to an interactive table.\"\n",
              "              style=\"display:none;\">\n",
              "        \n",
              "  <svg xmlns=\"http://www.w3.org/2000/svg\" height=\"24px\"viewBox=\"0 0 24 24\"\n",
              "       width=\"24px\">\n",
              "    <path d=\"M0 0h24v24H0V0z\" fill=\"none\"/>\n",
              "    <path d=\"M18.56 5.44l.94 2.06.94-2.06 2.06-.94-2.06-.94-.94-2.06-.94 2.06-2.06.94zm-11 1L8.5 8.5l.94-2.06 2.06-.94-2.06-.94L8.5 2.5l-.94 2.06-2.06.94zm10 10l.94 2.06.94-2.06 2.06-.94-2.06-.94-.94-2.06-.94 2.06-2.06.94z\"/><path d=\"M17.41 7.96l-1.37-1.37c-.4-.4-.92-.59-1.43-.59-.52 0-1.04.2-1.43.59L10.3 9.45l-7.72 7.72c-.78.78-.78 2.05 0 2.83L4 21.41c.39.39.9.59 1.41.59.51 0 1.02-.2 1.41-.59l7.78-7.78 2.81-2.81c.8-.78.8-2.07 0-2.86zM5.41 20L4 18.59l7.72-7.72 1.47 1.35L5.41 20z\"/>\n",
              "  </svg>\n",
              "      </button>\n",
              "      \n",
              "  <style>\n",
              "    .colab-df-container {\n",
              "      display:flex;\n",
              "      flex-wrap:wrap;\n",
              "      gap: 12px;\n",
              "    }\n",
              "\n",
              "    .colab-df-convert {\n",
              "      background-color: #E8F0FE;\n",
              "      border: none;\n",
              "      border-radius: 50%;\n",
              "      cursor: pointer;\n",
              "      display: none;\n",
              "      fill: #1967D2;\n",
              "      height: 32px;\n",
              "      padding: 0 0 0 0;\n",
              "      width: 32px;\n",
              "    }\n",
              "\n",
              "    .colab-df-convert:hover {\n",
              "      background-color: #E2EBFA;\n",
              "      box-shadow: 0px 1px 2px rgba(60, 64, 67, 0.3), 0px 1px 3px 1px rgba(60, 64, 67, 0.15);\n",
              "      fill: #174EA6;\n",
              "    }\n",
              "\n",
              "    [theme=dark] .colab-df-convert {\n",
              "      background-color: #3B4455;\n",
              "      fill: #D2E3FC;\n",
              "    }\n",
              "\n",
              "    [theme=dark] .colab-df-convert:hover {\n",
              "      background-color: #434B5C;\n",
              "      box-shadow: 0px 1px 3px 1px rgba(0, 0, 0, 0.15);\n",
              "      filter: drop-shadow(0px 1px 2px rgba(0, 0, 0, 0.3));\n",
              "      fill: #FFFFFF;\n",
              "    }\n",
              "  </style>\n",
              "\n",
              "      <script>\n",
              "        const buttonEl =\n",
              "          document.querySelector('#df-b554004e-ad31-48e1-96f1-0bfade0b7b30 button.colab-df-convert');\n",
              "        buttonEl.style.display =\n",
              "          google.colab.kernel.accessAllowed ? 'block' : 'none';\n",
              "\n",
              "        async function convertToInteractive(key) {\n",
              "          const element = document.querySelector('#df-b554004e-ad31-48e1-96f1-0bfade0b7b30');\n",
              "          const dataTable =\n",
              "            await google.colab.kernel.invokeFunction('convertToInteractive',\n",
              "                                                     [key], {});\n",
              "          if (!dataTable) return;\n",
              "\n",
              "          const docLinkHtml = 'Like what you see? Visit the ' +\n",
              "            '<a target=\"_blank\" href=https://colab.research.google.com/notebooks/data_table.ipynb>data table notebook</a>'\n",
              "            + ' to learn more about interactive tables.';\n",
              "          element.innerHTML = '';\n",
              "          dataTable['output_type'] = 'display_data';\n",
              "          await google.colab.output.renderOutput(dataTable, element);\n",
              "          const docLink = document.createElement('div');\n",
              "          docLink.innerHTML = docLinkHtml;\n",
              "          element.appendChild(docLink);\n",
              "        }\n",
              "      </script>\n",
              "    </div>\n",
              "  </div>\n",
              "  "
            ]
          },
          "metadata": {},
          "execution_count": 135
        }
      ]
    },
    {
      "cell_type": "markdown",
      "source": [
        "# **Explorar los datos (visualizaciones)**"
      ],
      "metadata": {
        "id": "ONZd-RL6-bed"
      }
    },
    {
      "cell_type": "code",
      "source": [
        "plt.figure(dpi=100)\n",
        "plt.style.use('seaborn')\n",
        "df[\"Region\"].value_counts().plot.pie(autopct=\"%1.1f%%\")\n",
        "plt.show()"
      ],
      "metadata": {
        "colab": {
          "base_uri": "https://localhost:8080/",
          "height": 515
        },
        "id": "GfPXf6hHJPl_",
        "outputId": "42f032e7-d0e9-438e-bd04-8c17647f2658"
      },
      "execution_count": null,
      "outputs": [
        {
          "output_type": "stream",
          "name": "stderr",
          "text": [
            "<ipython-input-136-4c6cda58ce17>:2: MatplotlibDeprecationWarning: The seaborn styles shipped by Matplotlib are deprecated since 3.6, as they no longer correspond to the styles shipped by seaborn. However, they will remain available as 'seaborn-v0_8-<style>'. Alternatively, directly use the seaborn API instead.\n",
            "  plt.style.use('seaborn')\n"
          ]
        },
        {
          "output_type": "display_data",
          "data": {
            "text/plain": [
              "<Figure size 800x550 with 1 Axes>"
            ],
            "image/png": "[encoded data removed]"
          },
          "metadata": {}
        }
      ]
    },
    {
      "cell_type": "code",
      "source": [
        "plt.figure(dpi=100)\n",
        "plt.style.use('seaborn')\n",
        "df[\"Funding Stage\"].value_counts().plot.pie(autopct=\"%1.1f%%\")\n",
        "plt.show()"
      ],
      "metadata": {
        "colab": {
          "base_uri": "https://localhost:8080/",
          "height": 515
        },
        "id": "QgmiF44CJiln",
        "outputId": "a032251e-2406-4d76-bece-2de40ee0aad7"
      },
      "execution_count": null,
      "outputs": [
        {
          "output_type": "stream",
          "name": "stderr",
          "text": [
            "<ipython-input-142-59ffaf212f43>:2: MatplotlibDeprecationWarning: The seaborn styles shipped by Matplotlib are deprecated since 3.6, as they no longer correspond to the styles shipped by seaborn. However, they will remain available as 'seaborn-v0_8-<style>'. Alternatively, directly use the seaborn API instead.\n",
            "  plt.style.use('seaborn')\n"
          ]
        },
        {
          "output_type": "display_data",
          "data": {
            "text/plain": [
              "<Figure size 800x550 with 1 Axes>"
            ],
            "image/png": "[encoded data removed]"
          },
          "metadata": {}
        }
      ]
    },
    {
      "cell_type": "markdown",
      "source": [
        "# **Funding Stage**\n",
        "* Series A =  0        \n",
        "* Seed     =  1       \n",
        "* Series B =  2     \n",
        "* Series C =  3 \n",
        "* Series D =  4      \n",
        "* Series E =  5 \n",
        "* Series F =  6\n",
        "* Pre-Seed =  7\n",
        "* Series G =  8\n",
        "* Private Equity = 9\n",
        "* Angel = 10\n",
        "* Debt Financing = 11\n",
        "* ICO    = 12\n",
        "* Series H = 13\n",
        "* Crowdfunding = 14"
      ],
      "metadata": {
        "id": "Eomy_JcUN3Xv"
      }
    },
    {
      "cell_type": "code",
      "source": [
        "df['Funding Stage'].replace({'Series A': 0, 'Seed': 1, 'Series B': 2, 'Series C': 3, 'Series D': 4, 'Series E': 5, 'Series F': 6, 'Pre-Seed': 7, 'Series G': 8, 'Private Equity': 9, 'Angel': 10, 'Debt Financing': 11, 'ICO': 12, 'Series H': 13, 'Crowdfunding': 14},inplace=True)\n",
        "df['Funding Stage'].value_counts()"
      ],
      "metadata": {
        "colab": {
          "base_uri": "https://localhost:8080/"
        },
        "id": "XPMblPDKLq0s",
        "outputId": "1bec3460-ef53-4ae0-8da6-8ee80fe1443a"
      },
      "execution_count": null,
      "outputs": [
        {
          "output_type": "stream",
          "name": "stderr",
          "text": [
            "<ipython-input-138-609664681e22>:1: SettingWithCopyWarning: \n",
            "A value is trying to be set on a copy of a slice from a DataFrame\n",
            "\n",
            "See the caveats in the documentation: https://pandas.pydata.org/pandas-docs/stable/user_guide/indexing.html#returning-a-view-versus-a-copy\n",
            "  df['Funding Stage'].replace({'Series A': 0, 'Seed': 1, 'Series B': 2, 'Series C': 3, 'Series D': 4, 'Series E': 5, 'Series F': 6, 'Pre-Seed': 7, 'Series G': 8, 'Private Equity': 9, 'Angel': 10, 'Debt Financing': 11, 'ICO': 12, 'Series H': 13, 'Crowdfunding': 14},inplace=True)\n"
          ]
        },
        {
          "output_type": "execute_result",
          "data": {
            "text/plain": [
              "0     939\n",
              "1     832\n",
              "2     647\n",
              "3     460\n",
              "4     249\n",
              "5     134\n",
              "6      62\n",
              "7      56\n",
              "8      26\n",
              "9      21\n",
              "10     13\n",
              "11     10\n",
              "12      5\n",
              "13      4\n",
              "14      3\n",
              "Name: Funding Stage, dtype: int64"
            ]
          },
          "metadata": {},
          "execution_count": 138
        }
      ]
    },
    {
      "cell_type": "markdown",
      "source": [
        "# **Region**\n",
        "\n",
        "* America del Norte =  0        \n",
        "* Europa    =  1       \n",
        "* Asia  =  2     \n",
        "* LATAM  =  3 \n",
        "* Oceania  =  4\n",
        "* Africa  = 5\n"
      ],
      "metadata": {
        "id": "XHV7-hCsQJFv"
      }
    },
    {
      "cell_type": "code",
      "source": [
        "df['Region'].replace({'America del Norte': 0, 'Europa': 1, 'Asia': 2, 'LATAM': 3, 'Oceania': 4, 'Africa': 5},inplace=True)\n",
        "df['Region'].value_counts()"
      ],
      "metadata": {
        "colab": {
          "base_uri": "https://localhost:8080/"
        },
        "id": "Ie_svZpPQJgk",
        "outputId": "c7107350-db6f-449c-dce7-6704f75555ad"
      },
      "execution_count": null,
      "outputs": [
        {
          "output_type": "stream",
          "name": "stderr",
          "text": [
            "<ipython-input-139-76f5840ab6cf>:1: SettingWithCopyWarning: \n",
            "A value is trying to be set on a copy of a slice from a DataFrame\n",
            "\n",
            "See the caveats in the documentation: https://pandas.pydata.org/pandas-docs/stable/user_guide/indexing.html#returning-a-view-versus-a-copy\n",
            "  df['Region'].replace({'America del Norte': 0, 'Europa': 1, 'Asia': 2, 'LATAM': 3, 'Oceania': 4, 'Africa': 5},inplace=True)\n"
          ]
        },
        {
          "output_type": "execute_result",
          "data": {
            "text/plain": [
              "0    2095\n",
              "1     803\n",
              "2     407\n",
              "3      60\n",
              "4      57\n",
              "5      39\n",
              "Name: Region, dtype: int64"
            ]
          },
          "metadata": {},
          "execution_count": 139
        }
      ]
    },
    {
      "cell_type": "markdown",
      "source": [
        "# **Vizualización**"
      ],
      "metadata": {
        "id": "KS4Hp5L6QUuT"
      }
    },
    {
      "cell_type": "code",
      "source": [
        "plt.style.use('seaborn')\n",
        "df.hist(figsize=(10, 8))\n",
        "plt.show()"
      ],
      "metadata": {
        "colab": {
          "base_uri": "https://localhost:8080/",
          "height": 752
        },
        "id": "9CpnadM2IZWA",
        "outputId": "3958711f-45cb-4621-8bd0-ffce0b261353"
      },
      "execution_count": null,
      "outputs": [
        {
          "output_type": "stream",
          "name": "stderr",
          "text": [
            "<ipython-input-140-2aafb823e60a>:1: MatplotlibDeprecationWarning: The seaborn styles shipped by Matplotlib are deprecated since 3.6, as they no longer correspond to the styles shipped by seaborn. However, they will remain available as 'seaborn-v0_8-<style>'. Alternatively, directly use the seaborn API instead.\n",
            "  plt.style.use('seaborn')\n"
          ]
        },
        {
          "output_type": "display_data",
          "data": {
            "text/plain": [
              "<Figure size 1000x800 with 2 Axes>"
            ],
            "image/png": "[encoded data removed]"
          },
          "metadata": {}
        }
      ]
    },
    {
      "cell_type": "code",
      "source": [
        "#Mapa de calor para entender las variables \n",
        "plt.style.use('seaborn')\n",
        "plt.figure(figsize=(14, 10))\n",
        "\n",
        "sns.heatmap(df.corr(),cmap = annot = True)\n",
        "\n",
        "plt.show()"
      ],
      "metadata": {
        "id": "mLf0kBow_JAl"
      },
      "execution_count": null,
      "outputs": []
    },
    {
      "cell_type": "code",
      "source": [
        "#Mapa de calor para entender las variables \n",
        "plt.style.use('seaborn')\n",
        "plt.figure(figsize=(35, 20))\n",
        "\n",
        "sns.heatmap(df.corr(),cmap = \"Region\", annot = True)\n",
        "\n",
        "plt.show()"
      ],
      "metadata": {
        "id": "rFzpkKM0-ax6"
      },
      "execution_count": null,
      "outputs": []
    },
    {
      "cell_type": "markdown",
      "source": [
        "# **Creamos un modelo de predicción.**"
      ],
      "metadata": {
        "id": "O3q80FWh_2rn"
      }
    },
    {
      "cell_type": "code",
      "source": [
        "# Paso 1: aplicaremos TrainTestSplit. y realizaremos impresiones para revisar los datos\n",
        "\n",
        "y = df['team1']\n",
        "X = df.drop(columns = 'team1')\n",
        "X_train, X_test, y_train, y_test = train_test_split(X, y, random_state=42)"
      ],
      "metadata": {
        "id": "ohb69Kjx_UoX"
      },
      "execution_count": null,
      "outputs": []
    },
    {
      "cell_type": "code",
      "source": [
        "print(len(X_train))\n",
        "print(len(X_test))"
      ],
      "metadata": {
        "id": "4Mz0o7DxAT5b"
      },
      "execution_count": null,
      "outputs": []
    },
    {
      "cell_type": "markdown",
      "source": [
        "# **Árboles de clasificación**"
      ],
      "metadata": {
        "id": "C8ms9sZeAcbQ"
      }
    },
    {
      "cell_type": "code",
      "source": [
        "scaler = StandardScaler()"
      ],
      "metadata": {
        "id": "Nqo1IQA7AXsK"
      },
      "execution_count": null,
      "outputs": []
    },
    {
      "cell_type": "code",
      "source": [
        "knn = KNeighborsClassifier(n_neighbors=2)"
      ],
      "metadata": {
        "id": "S9kpvqJmA2cx"
      },
      "execution_count": null,
      "outputs": []
    },
    {
      "cell_type": "code",
      "source": [
        "knn.get_params()"
      ],
      "metadata": {
        "id": "Tc9XLgrmA4g-"
      },
      "execution_count": null,
      "outputs": []
    },
    {
      "cell_type": "code",
      "source": [
        "logreg = LogisticRegression()"
      ],
      "metadata": {
        "id": "2O8fuTMIA6Pg"
      },
      "execution_count": null,
      "outputs": []
    },
    {
      "cell_type": "code",
      "source": [
        "logreg_pipe = make_pipeline(scaler, logreg)"
      ],
      "metadata": {
        "id": "6efKqOctBA95"
      },
      "execution_count": null,
      "outputs": []
    }
  ]
}